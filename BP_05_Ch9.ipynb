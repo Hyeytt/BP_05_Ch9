{
  "nbformat": 4,
  "nbformat_minor": 0,
  "metadata": {
    "colab": {
      "provenance": [],
      "authorship_tag": "ABX9TyN8eYLRJJ/P6tnEKqvaCjGq",
      "include_colab_link": true
    },
    "kernelspec": {
      "name": "python3",
      "display_name": "Python 3"
    },
    "language_info": {
      "name": "python"
    }
  },
  "cells": [
    {
      "cell_type": "markdown",
      "metadata": {
        "id": "view-in-github",
        "colab_type": "text"
      },
      "source": [
        "<a href=\"https://colab.research.google.com/github/Hyeytt/BP_05_Ch9/blob/main/BP_05_Ch9.ipynb\" target=\"_parent\"><img src=\"https://colab.research.google.com/assets/colab-badge.svg\" alt=\"Open In Colab\"/></a>"
      ]
    },
    {
      "cell_type": "markdown",
      "source": [
        "# 1"
      ],
      "metadata": {
        "id": "f7u-mYqAyj0k"
      }
    },
    {
      "cell_type": "code",
      "execution_count": 1,
      "metadata": {
        "colab": {
          "base_uri": "https://localhost:8080/"
        },
        "id": "A4Ba38e8yh5y",
        "outputId": "e2844292-896d-4bb2-d354-2bdb5f66e9b4"
      },
      "outputs": [
        {
          "output_type": "stream",
          "name": "stdout",
          "text": [
            "정수를 입력하시오: 10\n",
            "정수를 입력하시오: 20\n",
            "정수를 입력하시오: 30\n",
            "정수를 입력하시오: 40\n",
            "정수를 입력하시오: 50\n",
            "평균= 30.0\n"
          ]
        }
      ],
      "source": [
        "alist = []                                 # alist라는 변수를 사용해 리스트문을 사용한다\n",
        "sum = 0                                    # 오류를 방지하기 위해 sum값을 0으로 초기화 시킨다\n",
        "for i in range(5):                         # 아래의 문장을 5번 반복한다\n",
        " i = int(input(\"정수를 입력하시오: \"))     # i라고 하는 변수에 정수를 input함수를 이용해 입력받는다\n",
        " alist.append(i)                           # line4에서 입력받은 정수를 alist에 추가시킨다\n",
        "for i in alist:                            \n",
        " sum += i                                  # i에 해당하는 값을 다 더한다\n",
        "avg = sum/len(alist)                       # len을 활용하여 alist목록에 있는 요소의 개수를 세어 sum을 나눈다\n",
        "print(\"평균=\", avg)                        # 윗 문장에서 구한 평균값을 출력한다"
      ]
    },
    {
      "cell_type": "markdown",
      "source": [
        "# 2"
      ],
      "metadata": {
        "id": "8M5FiSIuynFW"
      }
    },
    {
      "cell_type": "code",
      "source": [
        "import random\n",
        "counters = [0, 0, 0, 0, 0, 0]\n",
        "for i in range(1000):\n",
        " value = random.randint(0, 5)\n",
        " counters[value] = counters[value] + 1\n",
        "\n",
        "for i in range(6) :\n",
        " print(\"주사위가 \", i+1, \"인 경우는 \", counters[i], \"번\")"
      ],
      "metadata": {
        "colab": {
          "base_uri": "https://localhost:8080/"
        },
        "id": "xRnA_vjdyoDi",
        "outputId": "02ccc97e-e9b2-4aeb-b3df-33433e4a94a9"
      },
      "execution_count": 7,
      "outputs": [
        {
          "output_type": "stream",
          "name": "stdout",
          "text": [
            "주사위가  1 인 경우는  151 번\n",
            "주사위가  2 인 경우는  153 번\n",
            "주사위가  3 인 경우는  165 번\n",
            "주사위가  4 인 경우는  183 번\n",
            "주사위가  5 인 경우는  178 번\n",
            "주사위가  6 인 경우는  170 번\n"
          ]
        }
      ]
    },
    {
      "cell_type": "markdown",
      "source": [
        "# 3"
      ],
      "metadata": {
        "id": "iV73x-mty0KU"
      }
    },
    {
      "cell_type": "code",
      "source": [
        "contacts = { }\n",
        "while True:\n",
        "    name = input(\"(입력모드)이름을 입력하시오: \")\n",
        "    if not name:\n",
        "          break;\n",
        "    tel = input(\"전화번호를 입력하시오: \")\n",
        "    contacts[name] = tel\n",
        "while True:\n",
        "    name = input(\"(검색모드)이름을 입력하시오: \")\n",
        "    if not name:\n",
        "          break;\n",
        "    if name in contacts :\n",
        "          print(name, \"의 전화번호는\", contacts[name], \"입니다.\")\n",
        "\n",
        "    else:\n",
        "        break;\n",
        " "
      ],
      "metadata": {
        "colab": {
          "base_uri": "https://localhost:8080/"
        },
        "id": "zstt3C7xy2VX",
        "outputId": "aaa01141-90e5-4af2-d3f4-2edb921d343f"
      },
      "execution_count": 17,
      "outputs": [
        {
          "name": "stdout",
          "output_type": "stream",
          "text": [
            "(입력모드)이름을 입력하시오: 홍길동\n",
            "전화번호를 입력하시오: 222-2222\n",
            "(입력모드)이름을 입력하시오: 김철수\n",
            "전화번호를 입력하시오: 222-3333\n",
            "(입력모드)이름을 입력하시오: \n",
            "(검색모드)이름을 입력하시오: 홍길동\n",
            "홍길동 의 전화번호는 222-2222 입니다.\n",
            "(검색모드)이름을 입력하시오: 김철수\n",
            "김철수 의 전화번호는 222-3333 입니다.\n",
            "(검색모드)이름을 입력하시오: 강냉이\n"
          ]
        }
      ]
    },
    {
      "cell_type": "markdown",
      "source": [
        "# 4"
      ],
      "metadata": {
        "id": "SDY0nOlB0csr"
      }
    },
    {
      "cell_type": "markdown",
      "source": [
        "    import turtle                         # 라이브러리에서 turtle모듈을 불러온다\n",
        "    import random                         # 라이브러리에서 random모듈을 불러온다 \n",
        "    t = turtle.Turtle()                   # 변수 t에 turtle값을 저장한다\n",
        "    t.shape(\"turtle\")                     # 커서의 모양을 turltle로 한다 \n",
        "    def draw_square(x, y, c):             # 사각형을 그리는 draw_square함수를 정의한다\n",
        "        t.up()                            # 펜을 든다\n",
        "        t.goto(x, y)                      # x,y로 이동시킨다\n",
        "        t.down()                          # 펜을 내려 놓는다\n",
        "        t.color(\"black\",c)                \n",
        "        t.begin_fill()                    # 색을 채우기 시작한다\n",
        "        t.forward(100)                    # 거북이를 앞으로 100만큼 이동시킨다\n",
        "        t.left(90)                        # 거북이를 왼쪽으로 90도 회전시킨다\n",
        "        t.forward(100)                    # 거북이를 앞으로 100만큼 이동시킨다\n",
        "        t.left(90)                        # 거북이를 왼쪽으로 90도 회전시킨다\n",
        "        t.forward(100)                    # 거북이를 앞으로 100만큼 이동시킨다\n",
        "        t.left(90)                        # 거북이를 왼쪽으로 90도 회전시킨다\n",
        "        t.forward(100)                    # 거북이를 앞으로 100만큼 이동시킨다\n",
        "        t.left(90)                        # 거북이를 왼쪽으로 90도 회전시킨다 \n",
        "        t.end_fill()                      # 색채우기를 끝낸다\n",
        "    for c in [\"yellow\", \"red\", \"purple\", \"blue\"]: #노란색, 빨간색, 보라색, 파랑색 순으로 색을 칠한다\n",
        "        x = random.randint(-100, 100)    # 랜덤하게 -100에서 100까지의 수를 출력하는 함수 \n",
        "        y = random.randint(-100, 100)    # 랜덤하게 -100에서 100까지의 수를 랜덤하게 출력한다\n",
        "        draw_square(x, y, c)             # 사각형을 출력한다"
      ],
      "metadata": {
        "id": "_NslSv6Z0sWL"
      }
    },
    {
      "cell_type": "markdown",
      "source": [
        "# 5"
      ],
      "metadata": {
        "id": "e9-A7TPf1L8K"
      }
    },
    {
      "cell_type": "markdown",
      "source": [
        "          import turtle               # turtle 모듈을 가져온다          \n",
        "          import random               # random 모듈을 가져온다\n",
        "          \n",
        "          t = turtle.Turtle()         # 변수 t에 turtle값을 저장한다\n",
        "          s = turtle.Screen()         # 변수 s에 screen값을 저장한다\n",
        "          \n",
        "          def draw_shape(t, c, length, sides, x, y):  # draw_shape라는 함수를 정의내린다\n",
        "                  t.up()              # 펜을 들어올린다\n",
        "                  t.goto(x, y)        # 거북이를x,y 좌표로 이동시킨다\n",
        "                  t.down()            # 펜을 내린다\n",
        "                  t.fillcolor(c)      # c로 거북이의 색을 정한다 \n",
        "                  angle = 360.0 / sides  # angle이라는 변수를 360를 sides로 나눈 값으로 정한다\n",
        "                  t.begin_fill()      # 색을 채우기 시작한다 \n",
        "                  for dist in range(sides):  # 간격을 다루는 함수\n",
        "                      t.forward(length)    # length 만큼 앞으로 이동한다\n",
        "                      t.left(angle)        # angle만큼 왼쪽으로 회전한다\n",
        "                  t.end_fill()        # 색채우기를 끝낸다 \n",
        "                  \n",
        "          for i in range(10):        #아래의 문장을 10번 반복한다\n",
        "                  color = random.choice([ 'white', 'yellow', 'blue', 'skyblue', 'orange', 'green' ])      # 지정한 색깔들을 랜덤하게 출력한다\n",
        "                  side_length = random.randint(10, 100) #10에서 100사이의 수 중 한 수를 랜덤하게 출력한다\n",
        "                  sides = random.randint(3, 10)\n",
        "                  x = random.randint(-200, 200)     #-200에서 200사이의 수 중 한 수를 랜덤하게 출력한다 \n",
        "                  y = random.randint(-200, 200)\n",
        "                  draw_shape(t, color, side_length, sides, x, y)"
      ],
      "metadata": {
        "id": "JkBzToXs13p0"
      }
    },
    {
      "cell_type": "markdown",
      "source": [
        "# 6"
      ],
      "metadata": {
        "id": "IMcMfhg63UI7"
      }
    },
    {
      "cell_type": "markdown",
      "source": [
        "      import turtle\n",
        "      import random\n",
        "      t = turtle.Turtle()\n",
        "      s = turtle.Screen()\n",
        "      s.bgcolor(\"black\")\n",
        "      def draw_star(aturtle, colour, side_length, x, y):\n",
        "          aturtle.color(colour)\n",
        "          aturtle.begin_fill()\n",
        "          aturtle.penup()\n",
        "          aturtle.goto(x, y)\n",
        "          aturtle.pendown()\n",
        "          for i in range(5):\n",
        "              aturtle.forward(side_length)\n",
        "              aturtle.right(144)\n",
        "              aturtle.forward(side_length)\n",
        "          aturtle.end_fill()\n",
        "      for i in range(20):\n",
        "          color = random.choice([ 'white', 'yellow', 'blue', 'skyblue', 'orange', 'green' ])\n",
        "          side_length = random.randint(10, 100)\n",
        "          x = random.randint(-200, 200)\n",
        "          y = random.randint(-200, 200)\n",
        "          draw_star(t, color, side_length, x, y)"
      ],
      "metadata": {
        "id": "A2MgDHIQ3-jv"
      }
    },
    {
      "cell_type": "markdown",
      "source": [
        "# 7"
      ],
      "metadata": {
        "id": "if-Eesbo4Da0"
      }
    },
    {
      "cell_type": "code",
      "source": [
        "domains = {\"kr\":\"대한민국\",\"us\":\"미국\",\"jp\":\"일본\",\"de\":\"독일\",\"sk\":\"슬로바키아\",\"hu\":\"헝가리\",\"no\":\"노르웨이\" }\n",
        "for k, v in domains.items():\n",
        "    print (k, \": \", v)\n"
      ],
      "metadata": {
        "colab": {
          "base_uri": "https://localhost:8080/"
        },
        "id": "XwujHLsr4Ef8",
        "outputId": "f86a13e5-651b-4d4d-89a6-f8c976c7fa98"
      },
      "execution_count": 22,
      "outputs": [
        {
          "output_type": "stream",
          "name": "stdout",
          "text": [
            "kr :  대한민국\n",
            "us :  미국\n",
            "jp :  일본\n",
            "de :  독일\n",
            "sk :  슬로바키아\n",
            "hu :  헝가리\n",
            "no :  노르웨이\n"
          ]
        }
      ]
    },
    {
      "cell_type": "markdown",
      "source": [
        "# 8"
      ],
      "metadata": {
        "id": "8Yd32any4Yl_"
      }
    },
    {
      "cell_type": "code",
      "source": [
        "problems = {'파이썬': '최근에 가장 떠오르는 프로그래밍 언어',\n",
        "            '변수': '데이터를 저장하는 메모리 공간',\n",
        "            '함수': '작업을 수행하는 문장들의 집합에 이름을 붙인것',\n",
        "            '리스트': '서로 관련이 없는 항목들의 모임',\n",
        "            }\n",
        "def show_words(problems):\n",
        "    display_message = \"\"\n",
        "    i=1\n",
        "    for word in problems.keys():\n",
        "        display_message += \"(\"+str(i)+\")\"\n",
        "        display_message += word + \" \"\n",
        "        i+=1\n",
        "    print( display_message)\n",
        "for meaning in problems.values():\n",
        "    print(\"다음은 어떤 단어에 대한 설명일까요? \")\n",
        "    print(\"\\\"\"+meaning+\"\\\"\")\n",
        "    correct = False\n",
        "    while not correct:\n",
        "         show_words(problems)\n",
        "         guessed_word = input(\"\")\n",
        "         if problems[guessed_word] == meaning:\n",
        "             print(\"정답입니다. !\")\n",
        "             correct = True \n",
        "         else:\n",
        "             print(\"정답이 아닙니다.\")\n",
        "         break;"
      ],
      "metadata": {
        "colab": {
          "base_uri": "https://localhost:8080/"
        },
        "id": "-hz8dGa_4d-N",
        "outputId": "4a6f9ee3-3e55-42ae-999e-74b9bc3153e0"
      },
      "execution_count": 43,
      "outputs": [
        {
          "output_type": "stream",
          "name": "stdout",
          "text": [
            "다음은 어떤 단어에 대한 설명일까요? \n",
            "\"최근에 가장 떠오르는 프로그래밍 언어\"\n",
            "(1)파이썬 (2)변수 (3)함수 (4)리스트 \n",
            "파이썬\n",
            "정답입니다. !\n",
            "다음은 어떤 단어에 대한 설명일까요? \n",
            "\"데이터를 저장하는 메모리 공간\"\n",
            "(1)파이썬 (2)변수 (3)함수 (4)리스트 \n",
            "변수\n",
            "정답입니다. !\n",
            "다음은 어떤 단어에 대한 설명일까요? \n",
            "\"작업을 수행하는 문장들의 집합에 이름을 붙인것\"\n",
            "(1)파이썬 (2)변수 (3)함수 (4)리스트 \n",
            "함수\n",
            "정답입니다. !\n",
            "다음은 어떤 단어에 대한 설명일까요? \n",
            "\"서로 관련이 없는 항목들의 모임\"\n",
            "(1)파이썬 (2)변수 (3)함수 (4)리스트 \n",
            "리스트\n",
            "정답입니다. !\n"
          ]
        }
      ]
    }
  ]
}