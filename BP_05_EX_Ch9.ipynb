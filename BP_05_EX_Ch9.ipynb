{
  "nbformat": 4,
  "nbformat_minor": 0,
  "metadata": {
    "colab": {
      "provenance": [],
      "authorship_tag": "ABX9TyMMVrB3il+Uim5NRd/21wMr",
      "include_colab_link": true
    },
    "kernelspec": {
      "name": "python3",
      "display_name": "Python 3"
    },
    "language_info": {
      "name": "python"
    }
  },
  "cells": [
    {
      "cell_type": "markdown",
      "metadata": {
        "id": "view-in-github",
        "colab_type": "text"
      },
      "source": [
        "<a href=\"https://colab.research.google.com/github/Hyeytt/BP_05_Ch9/blob/main/BP_05_EX_Ch9.ipynb\" target=\"_parent\"><img src=\"https://colab.research.google.com/assets/colab-badge.svg\" alt=\"Open In Colab\"/></a>"
      ]
    },
    {
      "cell_type": "markdown",
      "source": [
        "# 1 사용자로부터 5개의 숫자를 읽어서 리스트에 저장하고 숫자들의 평균을 계산하여 출력하는 프로그램을 작성해보자.\n"
      ],
      "metadata": {
        "id": "f7u-mYqAyj0k"
      }
    },
    {
      "cell_type": "code",
      "execution_count": null,
      "metadata": {
        "colab": {
          "base_uri": "https://localhost:8080/"
        },
        "id": "A4Ba38e8yh5y",
        "outputId": "e2844292-896d-4bb2-d354-2bdb5f66e9b4"
      },
      "outputs": [
        {
          "output_type": "stream",
          "name": "stdout",
          "text": [
            "정수를 입력하시오: 10\n",
            "정수를 입력하시오: 20\n",
            "정수를 입력하시오: 30\n",
            "정수를 입력하시오: 40\n",
            "정수를 입력하시오: 50\n",
            "평균= 30.0\n"
          ]
        }
      ],
      "source": [
        "alist = []                                 # alist라는 변수를 사용해 리스트문을 사용한다\n",
        "sum = 0                                    # 오류를 방지하기 위해 sum값을 0으로 초기화 시킨다\n",
        "for i in range(5):                         # 아래의 문장을 5번 반복한다\n",
        " i = int(input(\"정수를 입력하시오: \"))     # i라고 하는 변수에 정수를 input함수를 이용해 입력받는다\n",
        " alist.append(i)                           # line4에서 입력받은 정수를 alist에 추가시킨다\n",
        "for i in alist:                            \n",
        " sum += i                                  # i에 해당하는 값을 다 더한다\n",
        "avg = sum/len(alist)                       # len을 활용하여 alist목록에 있는 요소의 개수를 세어 sum을 나눈다\n",
        "print(\"평균=\", avg)                        # 윗 문장에서 구한 평균값을 출력한다"
      ]
    },
    {
      "cell_type": "markdown",
      "source": [
        "# 주사위를 던져서 나오는 값들의 빈도를 계산하는 프로그램을 작성해보자 즉 1, 2, 3. 4. 5. 6의 값이 각각 몇 번이나 나오는지를 계산한다. 난수 발생 함수와 리스트를 사용해보자. "
      ],
      "metadata": {
        "id": "8M5FiSIuynFW"
      }
    },
    {
      "cell_type": "code",
      "source": [
        "import random                              # random 모듈을 불러온다\n",
        "counters = [0, 0, 0, 0, 0, 0]              \n",
        "for i in range(1000):                      # 아래의 문장들을 100번 반복한다  \n",
        " value = random.randint(0, 5)              # 들여쓰기, value의 값은 0에서 5사이의 무작위 수로 정한다\n",
        " counters[value] = counters[value] + 1     # 나온 value 값을 리스트인counter에 추가한다\n",
        "\n",
        "for i in range(6) :                        # 아래의 문장을 6번 반복한다\n",
        " print(\"주사위가 \", i+1, \"인 경우는 \", counters[i], \"번\")     "
      ],
      "metadata": {
        "colab": {
          "base_uri": "https://localhost:8080/"
        },
        "id": "xRnA_vjdyoDi",
        "outputId": "02ccc97e-e9b2-4aeb-b3df-33433e4a94a9"
      },
      "execution_count": null,
      "outputs": [
        {
          "output_type": "stream",
          "name": "stdout",
          "text": [
            "주사위가  1 인 경우는  151 번\n",
            "주사위가  2 인 경우는  153 번\n",
            "주사위가  3 인 경우는  165 번\n",
            "주사위가  4 인 경우는  183 번\n",
            "주사위가  5 인 경우는  178 번\n",
            "주사위가  6 인 경우는  170 번\n"
          ]
        }
      ]
    },
    {
      "cell_type": "markdown",
      "source": [
        "# 3 딕셔너리를 사용하여서 친구들의 이름과 전화번호를 저장해보자. 사용자로부터 친구들의 이름과 전화번호를 입력받고 딕셔너리에 저장한다. 이름을 입력하지 않고 엔터키를 치면 검색모드가 된다. 검색 모드에서는 친구들의 이름으로 전화번호를 검색할 수 있도록한다.\n"
      ],
      "metadata": {
        "id": "iV73x-mty0KU"
      }
    },
    {
      "cell_type": "code",
      "source": [
        "contacts = { }                            # {}인 딕셔너리를 활용한다\n",
        "while True:                               # 참일 경우를 뜻한다\n",
        "    name = input(\"(입력모드)이름을 입력하시오: \")     # input함수를 활용하여 이름을 입력받는다\n",
        "    if not name:                                      \n",
        "          break;\n",
        "    tel = input(\"전화번호를 입력하시오: \")            # input 함수를 이용하여 전화번호를 입력받는다\n",
        "    contacts[name] = tel                              # 딕셔너리의 이름에 전화번호를 저장한다\n",
        "while True:                                           # 참일 경우를 의미한다\n",
        "    name = input(\"(검색모드)이름을 입력하시오: \")     # input 함수를 이용하여 딕셔너리에 이름이 있는지 확인한다\n",
        "    if not name:                                      # 이름이 없을경우\n",
        "          break;                                      # 프로그램 작동을 멈춘다\n",
        "    if name in contacts :                             # 이름이 딕셔너리에 있을 경우 \n",
        "          print(name, \"의 전화번호는\", contacts[name], \"입니다.\")     # 해당하는 문장을 출력한다.\n",
        "\n",
        "    else:\n",
        "        break;\n",
        " "
      ],
      "metadata": {
        "colab": {
          "base_uri": "https://localhost:8080/"
        },
        "id": "zstt3C7xy2VX",
        "outputId": "aaa01141-90e5-4af2-d3f4-2edb921d343f"
      },
      "execution_count": null,
      "outputs": [
        {
          "name": "stdout",
          "output_type": "stream",
          "text": [
            "(입력모드)이름을 입력하시오: 홍길동\n",
            "전화번호를 입력하시오: 222-2222\n",
            "(입력모드)이름을 입력하시오: 김철수\n",
            "전화번호를 입력하시오: 222-3333\n",
            "(입력모드)이름을 입력하시오: \n",
            "(검색모드)이름을 입력하시오: 홍길동\n",
            "홍길동 의 전화번호는 222-2222 입니다.\n",
            "(검색모드)이름을 입력하시오: 김철수\n",
            "김철수 의 전화번호는 222-3333 입니다.\n",
            "(검색모드)이름을 입력하시오: 강냉이\n"
          ]
        }
      ]
    },
    {
      "cell_type": "markdown",
      "source": [
        "# 4. 색상을 리스트에 저장한다. 리스트에 저장된 색상을 하나씩 꺼내어 거북이의 색상으로 설정하면서 속이 채워진 사각형을 그리는 프로그램을 작성해보자"
      ],
      "metadata": {
        "id": "SDY0nOlB0csr"
      }
    },
    {
      "cell_type": "markdown",
      "source": [
        "    import turtle                         # 라이브러리에서 turtle모듈을 불러온다\n",
        "    import random                         # 라이브러리에서 random모듈을 불러온다 \n",
        "    t = turtle.Turtle()                   # 변수 t에 turtle값을 저장한다\n",
        "    t.shape(\"turtle\")                     # 커서의 모양을 turltle로 한다 \n",
        "    def draw_square(x, y, c):             # 사각형을 그리는 draw_square함수를 정의한다\n",
        "        t.up()                            # 펜을 든다\n",
        "        t.goto(x, y)                      # x,y로 이동시킨다\n",
        "        t.down()                          # 펜을 내려 놓는다\n",
        "        t.color(\"black\",c)                \n",
        "        t.begin_fill()                    # 색을 채우기 시작한다\n",
        "        t.forward(100)                    # 거북이를 앞으로 100만큼 이동시킨다\n",
        "        t.left(90)                        # 거북이를 왼쪽으로 90도 회전시킨다\n",
        "        t.forward(100)                    # 거북이를 앞으로 100만큼 이동시킨다\n",
        "        t.left(90)                        # 거북이를 왼쪽으로 90도 회전시킨다\n",
        "        t.forward(100)                    # 거북이를 앞으로 100만큼 이동시킨다\n",
        "        t.left(90)                        # 거북이를 왼쪽으로 90도 회전시킨다\n",
        "        t.forward(100)                    # 거북이를 앞으로 100만큼 이동시킨다\n",
        "        t.left(90)                        # 거북이를 왼쪽으로 90도 회전시킨다 \n",
        "        t.end_fill()                      # 색채우기를 끝낸다\n",
        "    for c in [\"yellow\", \"red\", \"purple\", \"blue\"]: #노란색, 빨간색, 보라색, 파랑색 순으로 색을 칠한다\n",
        "        x = random.randint(-100, 100)    # 랜덤하게 -100에서 100까지의 수를 출력하는 함수 \n",
        "        y = random.randint(-100, 100)    # 랜덤하게 -100에서 100까지의 수를 랜덤하게 출력한다\n",
        "        draw_square(x, y, c)             # 사각형을 출력한다"
      ],
      "metadata": {
        "id": "_NslSv6Z0sWL"
      }
    },
    {
      "cell_type": "markdown",
      "source": [
        "# 5 색상을 리스트에 저장한다. 리스트에 저장된 색상을 하나씩 꺼내어 거북이의 색상으로 설정하면서 속이 채워진 다각형을 그리는 프로그램을 작셩해보자"
      ],
      "metadata": {
        "id": "e9-A7TPf1L8K"
      }
    },
    {
      "cell_type": "markdown",
      "source": [
        "          import turtle               # turtle 모듈을 가져온다          \n",
        "          import random               # random 모듈을 가져온다\n",
        "          \n",
        "          t = turtle.Turtle()         # 변수 t에 turtle값을 저장한다\n",
        "          s = turtle.Screen()         # 변수 s에 screen값을 저장한다\n",
        "          \n",
        "          def draw_shape(t, c, length, sides, x, y):  # draw_shape라는 함수를 정의내린다\n",
        "                  t.up()              # 펜을 들어올린다\n",
        "                  t.goto(x, y)        # 거북이를x,y 좌표로 이동시킨다\n",
        "                  t.down()            # 펜을 내린다\n",
        "                  t.fillcolor(c)      # c로 거북이의 색을 정한다 \n",
        "                  angle = 360.0 / sides  # angle이라는 변수를 360를 sides로 나눈 값으로 정한다\n",
        "                  t.begin_fill()      # 색을 채우기 시작한다 \n",
        "                  for dist in range(sides):  # 간격을 다루는 함수\n",
        "                      t.forward(length)    # length 만큼 앞으로 이동한다\n",
        "                      t.left(angle)        # angle만큼 왼쪽으로 회전한다\n",
        "                  t.end_fill()        # 색채우기를 끝낸다 \n",
        "                  \n",
        "          for i in range(10):        #아래의 문장을 10번 반복한다\n",
        "                  color = random.choice([ 'white', 'yellow', 'blue', 'skyblue', 'orange', 'green' ])      # 지정한 색깔들을 랜덤하게 출력한다\n",
        "                  side_length = random.randint(10, 100) #10에서 100사이의 수 중 한 수를 랜덤하게 출력한다\n",
        "                  sides = random.randint(3, 10)\n",
        "                  x = random.randint(-200, 200)     #-200에서 200사이의 수 중 한 수를 랜덤하게 출력한다 \n",
        "                  y = random.randint(-200, 200)\n",
        "                  draw_shape(t, color, side_length, sides, x, y)"
      ],
      "metadata": {
        "id": "JkBzToXs13p0"
      }
    },
    {
      "cell_type": "markdown",
      "source": [
        "# 6. 색상을 리스트에 저장한다. 리스트에 저장된 색상을 하나씩 꺼내어 거북이의 색상으로 설정하면서 속이 채워진 벌을 랜덤한 위치에 그러는 프로그램을 작성해보자.\n"
      ],
      "metadata": {
        "id": "IMcMfhg63UI7"
      }
    },
    {
      "cell_type": "markdown",
      "source": [
        "      import turtle                      # turtle 모듈을 불러온다\n",
        "      import random                      # random 모듈을 불러온다\n",
        "      t = turtle.Turtle()                # 변수 t에 turtle 함수를 부여한다\n",
        "      s = turtle.Screen()                # 변수 s에 screen 함수를 부여한다\n",
        "      s.bgcolor(\"black\")                 # 배경색은 검은색으로 한다\n",
        "      def draw_star(aturtle, colour, side_length, x, y): # draw_star함수를 정의한다\n",
        "          aturtle.color(colour)        # aturtle의 색을 colour값으로 정한다\n",
        "          aturtle.begin_fill()         # aturtle의 색을 채우기 시작한다\n",
        "          aturtle.penup()              # 펜을 들어올린다\n",
        "          aturtle.goto(x, y)           # x,y 좌표로 이동시킨다\n",
        "          aturtle.pendown()            # 펜을 내린다\n",
        "          for i in range(5):           # 아래의 문장들을 5번 반복한다\n",
        "              aturtle.forward(side_length) # side_length만큼 앞으로 이동시킨다\n",
        "              aturtle.right(144)       # 오른쪽으로 144만큼 회전시킨다\n",
        "              aturtle.forward(side_length)  #  side_length만큼 앞으로 이동시킨다\n",
        "          aturtle.end_fill()           # turtle의 색을 채우기를 끝낸다\n",
        "      for i in range(20):              # 아래의 문장들을 20번 반복한다.\n",
        "          color = random.choice([ 'white', 'yellow', 'blue', 'skyblue', 'orange', 'green' ])                      # 적어놓은 색의 순서로 색을 채운다\n",
        "          side_length = random.randint(10, 100)   # side_length는 10에서 100까지의 수 중에서 랜덤으로 한다\n",
        "          x = random.randint(-200, 200)   # x는 -200에서 200까지의 수 중에서 랜덤으로 한다\n",
        "          y = random.randint(-200, 200)   # y는 -200에서 200까지의 수 중에서 랜덤으로 한다\n",
        "          draw_star(t, color, side_length, x, y) "
      ],
      "metadata": {
        "id": "A2MgDHIQ3-jv"
      }
    },
    {
      "cell_type": "markdown",
      "source": [
        "# 7. 인터넷 도메인의 약자와 해당되는 국가를 딕셔너리에 저장해보자 예를 들어서 “kr,은 대한민국으로 저장되어야 한다 딕셔너리를 순회하면서 모든 키와 값을 출력하는 프로그램을 작성해보자."
      ],
      "metadata": {
        "id": "if-Eesbo4Da0"
      }
    },
    {
      "cell_type": "code",
      "source": [
        "domains = {\"kr\":\"대한민국\",\"us\":\"미국\",\"jp\":\"일본\",\"de\":\"독일\",\"sk\":\"슬로바키아\",\"hu\":\"헝가리\",\"no\":\"노르웨이\" }    # 딕셔너리에 해당하는 내용들을 넣는다\n",
        "for k, v in domains.items():  \n",
        "    print (k, \": \", v)          # 딕셔너리의 영어와 나라이름 사이에 ':'를 추가한다  \n"
      ],
      "metadata": {
        "colab": {
          "base_uri": "https://localhost:8080/"
        },
        "id": "XwujHLsr4Ef8",
        "outputId": "f86a13e5-651b-4d4d-89a6-f8c976c7fa98"
      },
      "execution_count": null,
      "outputs": [
        {
          "output_type": "stream",
          "name": "stdout",
          "text": [
            "kr :  대한민국\n",
            "us :  미국\n",
            "jp :  일본\n",
            "de :  독일\n",
            "sk :  슬로바키아\n",
            "hu :  헝가리\n",
            "no :  노르웨이\n"
          ]
        }
      ]
    },
    {
      "cell_type": "markdown",
      "source": [
        "# 8. 딕셔너리에 문제와 정답을 저장하고 하나씩 꺼내서 사용자에게 제시하는 프로그램을 작성해보자. 사용자는 문자열로 답해야 한다. 번호로 답할 수는 없다"
      ],
      "metadata": {
        "id": "8Yd32any4Yl_"
      }
    },
    {
      "cell_type": "code",
      "source": [
        "problems = {'파이썬': '최근에 가장 떠오르는 프로그래밍 언어',                  #딕셔너리를 활용해 개념과 그 설명들을 정리하여 넣는다\n",
        "            '변수': '데이터를 저장하는 메모리 공간',\n",
        "            '함수': '작업을 수행하는 문장들의 집합에 이름을 붙인것',\n",
        "            '리스트': '서로 관련이 없는 항목들의 모임',\n",
        "            }\n",
        "def show_words(problems):                                                     # show_words 함수를 정의내린다\n",
        "    display_message = \"\"                                                      # \"\"를 출력한다\n",
        "    i=1                                   \n",
        "    for word in problems.keys():                                              # 딕셔너리에 있는 단어어 대한 얘기이다\n",
        "        display_message += \"(\"+str(i)+\")\"\n",
        "        display_message += word + \" \"\n",
        "        i+=1\n",
        "    print( display_message)\n",
        "for meaning in problems.values():\n",
        "    print(\"다음은 어떤 단어에 대한 설명일까요? \")                            # print 함수를 활용하여 출력한다\n",
        "    print(\"\\\"\"+meaning+\"\\\"\")\n",
        "    correct = False\n",
        "    while not correct:\n",
        "         show_words(problems)\n",
        "         guessed_word = input(\"\")\n",
        "         if problems[guessed_word] == meaning:                               # 입력한 문자가 meaning과 같다면\n",
        "             print(\"정답입니다. !\")                                          # 정답입니다.!를 출력한다 \n",
        "             correct = True \n",
        "         else:                                                               # 반대의 경우에는 \n",
        "             print(\"정답이 아닙니다.\")                                       # 정답이 아닙니다.를 출력한다\n",
        "         break;"
      ],
      "metadata": {
        "colab": {
          "base_uri": "https://localhost:8080/"
        },
        "id": "-hz8dGa_4d-N",
        "outputId": "4a6f9ee3-3e55-42ae-999e-74b9bc3153e0"
      },
      "execution_count": null,
      "outputs": [
        {
          "output_type": "stream",
          "name": "stdout",
          "text": [
            "다음은 어떤 단어에 대한 설명일까요? \n",
            "\"최근에 가장 떠오르는 프로그래밍 언어\"\n",
            "(1)파이썬 (2)변수 (3)함수 (4)리스트 \n",
            "파이썬\n",
            "정답입니다. !\n",
            "다음은 어떤 단어에 대한 설명일까요? \n",
            "\"데이터를 저장하는 메모리 공간\"\n",
            "(1)파이썬 (2)변수 (3)함수 (4)리스트 \n",
            "변수\n",
            "정답입니다. !\n",
            "다음은 어떤 단어에 대한 설명일까요? \n",
            "\"작업을 수행하는 문장들의 집합에 이름을 붙인것\"\n",
            "(1)파이썬 (2)변수 (3)함수 (4)리스트 \n",
            "함수\n",
            "정답입니다. !\n",
            "다음은 어떤 단어에 대한 설명일까요? \n",
            "\"서로 관련이 없는 항목들의 모임\"\n",
            "(1)파이썬 (2)변수 (3)함수 (4)리스트 \n",
            "리스트\n",
            "정답입니다. !\n"
          ]
        }
      ]
    }
  ]
}